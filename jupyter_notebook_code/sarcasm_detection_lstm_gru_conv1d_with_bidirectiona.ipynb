{
 "cells": [
  {
   "cell_type": "code",
   "execution_count": 1,
   "metadata": {
    "_cell_guid": "b1076dfc-b9ad-4769-8c92-a6c4dae69d19",
    "_uuid": "8f2839f25d086af736a60e9eeb907d3b93b6e0e5"
   },
   "outputs": [
    {
     "name": "stderr",
     "output_type": "stream",
     "text": [
      "Using TensorFlow backend.\n"
     ]
    },
    {
     "name": "stdout",
     "output_type": "stream",
     "text": [
      "['Sarcasm_Headlines_Dataset.json']\n"
     ]
    }
   ],
   "source": [
    "import numpy as np # linear algebra\n",
    "import pandas as pd # data processing, CSV file I/O (e.g. pd.read_csv)\n",
    "\n",
    "# Deep Learning necessities\n",
    "from keras.preprocessing.text import Tokenizer\n",
    "from keras.preprocessing.sequence import pad_sequences\n",
    "from keras.models import Sequential\n",
    "from keras.layers import Embedding, Flatten, Dense, LSTM, Bidirectional, Dropout, Conv1D, MaxPool1D\n",
    "from keras.layers import GlobalMaxPool1D, GRU\n",
    "from keras import optimizers\n",
    "\n",
    "import matplotlib.pyplot as plt\n",
    "\n",
    "# Input data files are available in the \"../input/\" directory.\n",
    "\n",
    "import os\n",
    "print(os.listdir(\"../input\"))\n",
    "\n",
    "# Any results you write to the current directory are saved as output."
   ]
  },
  {
   "cell_type": "markdown",
   "metadata": {},
   "source": [
    "<a id='contents'></a>\n",
    "## Contents:\n",
    "\n",
    "### 1. [Understand folder structure, view a few data points](#1.1)\n",
    "### 2. [Prepare Data for modelling](#2.1)\n",
    "### 3. [Build and train Fully Connected Model](#3.1)\n",
    "### 4. [Build and train LSTM model ](#4)\n",
    "### 5. [Build and train Conv1D model](#5)\n",
    "### 6. [Build and train Conv1D + GRU model](#6)"
   ]
  },
  {
   "cell_type": "code",
   "execution_count": 2,
   "metadata": {},
   "outputs": [],
   "source": [
    "# Util functions\n",
    "def prep_data(text, tok):\n",
    "    seq = tok.texts_to_sequences([text])\n",
    "    data = pad_sequences(seq, MAX_SEQ_LENGTH)\n",
    "    return data\n",
    "\n",
    "def plot(history):\n",
    "    hist = history.history\n",
    "    train_loss, train_acc = hist['loss'], hist['acc']\n",
    "    val_loss, val_acc = hist['val_loss'], hist['val_acc']\n",
    "    epochs = range(1, len(train_acc)+1)\n",
    "    \n",
    "    plt.plot(epochs, train_acc, 'g', label='Training acc')\n",
    "    plt.plot(epochs, val_acc, 'o', label='Validation acc')\n",
    "    plt.title('Training and validation accuracy')\n",
    "    plt.legend()\n",
    "    plt.figure()\n",
    "    plt.plot(epochs, train_loss, 'g', label='Training loss')\n",
    "    plt.plot(epochs, val_loss, 'o', label='Validation loss')\n",
    "    plt.title('Training and validation loss')\n",
    "    plt.legend()\n",
    "    plt.show()"
   ]
  },
  {
   "cell_type": "markdown",
   "metadata": {},
   "source": [
    "<a id='1.1'></a>\n",
    "# 1. Understand folder structure, view a few data points "
   ]
  },
  {
   "cell_type": "code",
   "execution_count": 3,
   "metadata": {},
   "outputs": [
    {
     "data": {
      "text/html": [
       "<div>\n",
       "<style scoped>\n",
       "    .dataframe tbody tr th:only-of-type {\n",
       "        vertical-align: middle;\n",
       "    }\n",
       "\n",
       "    .dataframe tbody tr th {\n",
       "        vertical-align: top;\n",
       "    }\n",
       "\n",
       "    .dataframe thead th {\n",
       "        text-align: right;\n",
       "    }\n",
       "</style>\n",
       "<table border=\"1\" class=\"dataframe\">\n",
       "  <thead>\n",
       "    <tr style=\"text-align: right;\">\n",
       "      <th></th>\n",
       "      <th>article_link</th>\n",
       "      <th>headline</th>\n",
       "      <th>is_sarcastic</th>\n",
       "    </tr>\n",
       "  </thead>\n",
       "  <tbody>\n",
       "    <tr>\n",
       "      <th>0</th>\n",
       "      <td>https://www.huffingtonpost.com/entry/versace-b...</td>\n",
       "      <td>former versace store clerk sues over secret 'b...</td>\n",
       "      <td>0</td>\n",
       "    </tr>\n",
       "    <tr>\n",
       "      <th>1</th>\n",
       "      <td>https://www.huffingtonpost.com/entry/roseanne-...</td>\n",
       "      <td>the 'roseanne' revival catches up to our thorn...</td>\n",
       "      <td>0</td>\n",
       "    </tr>\n",
       "    <tr>\n",
       "      <th>2</th>\n",
       "      <td>https://local.theonion.com/mom-starting-to-fea...</td>\n",
       "      <td>mom starting to fear son's web series closest ...</td>\n",
       "      <td>1</td>\n",
       "    </tr>\n",
       "    <tr>\n",
       "      <th>3</th>\n",
       "      <td>https://politics.theonion.com/boehner-just-wan...</td>\n",
       "      <td>boehner just wants wife to listen, not come up...</td>\n",
       "      <td>1</td>\n",
       "    </tr>\n",
       "    <tr>\n",
       "      <th>4</th>\n",
       "      <td>https://www.huffingtonpost.com/entry/jk-rowlin...</td>\n",
       "      <td>j.k. rowling wishes snape happy birthday in th...</td>\n",
       "      <td>0</td>\n",
       "    </tr>\n",
       "  </tbody>\n",
       "</table>\n",
       "</div>"
      ],
      "text/plain": [
       "                                        article_link     ...      is_sarcastic\n",
       "0  https://www.huffingtonpost.com/entry/versace-b...     ...                 0\n",
       "1  https://www.huffingtonpost.com/entry/roseanne-...     ...                 0\n",
       "2  https://local.theonion.com/mom-starting-to-fea...     ...                 1\n",
       "3  https://politics.theonion.com/boehner-just-wan...     ...                 1\n",
       "4  https://www.huffingtonpost.com/entry/jk-rowlin...     ...                 0\n",
       "\n",
       "[5 rows x 3 columns]"
      ]
     },
     "execution_count": 3,
     "metadata": {},
     "output_type": "execute_result"
    }
   ],
   "source": [
    "df = pd.read_json('../input/Sarcasm_Headlines_Dataset.json', lines=True)\n",
    "df.head()"
   ]
  },
  {
   "cell_type": "markdown",
   "metadata": {},
   "source": [
    "<a id='2.1'></a>\n",
    "# 2. Prepare Data for Modelling"
   ]
  },
  {
   "cell_type": "code",
   "execution_count": 4,
   "metadata": {},
   "outputs": [],
   "source": [
    "df = df[['headline', 'is_sarcastic']]"
   ]
  },
  {
   "cell_type": "code",
   "execution_count": 5,
   "metadata": {},
   "outputs": [],
   "source": [
    "MAX_WORDS = 20000"
   ]
  },
  {
   "cell_type": "code",
   "execution_count": 6,
   "metadata": {},
   "outputs": [],
   "source": [
    "tok = Tokenizer(num_words = MAX_WORDS) # keeping 10000 now for first iteration\n",
    "tok.fit_on_texts(df.headline)\n",
    "seqs = tok.texts_to_sequences(df.headline)"
   ]
  },
  {
   "cell_type": "code",
   "execution_count": 7,
   "metadata": {},
   "outputs": [],
   "source": [
    "# Find length of sentence \n",
    "df['length'] = df['headline'].apply(lambda x: len(x.split(' ')))"
   ]
  },
  {
   "cell_type": "code",
   "execution_count": 8,
   "metadata": {},
   "outputs": [
    {
     "data": {
      "text/plain": [
       "0    14985\n",
       "1    11724\n",
       "Name: is_sarcastic, dtype: int64"
      ]
     },
     "execution_count": 8,
     "metadata": {},
     "output_type": "execute_result"
    }
   ],
   "source": [
    "# Dataset seems balanced\n",
    "df.is_sarcastic.value_counts()"
   ]
  },
  {
   "cell_type": "code",
   "execution_count": 9,
   "metadata": {},
   "outputs": [],
   "source": [
    "MAX_SEQ_LENGTH = 40"
   ]
  },
  {
   "cell_type": "code",
   "execution_count": 10,
   "metadata": {
    "_cell_guid": "79c7e3d0-c299-4dcb-8224-4455121ee9b0",
    "_uuid": "d629ff2d2480ee46fbb7e2d37f6b5fab8052498a"
   },
   "outputs": [],
   "source": [
    "data = pad_sequences(seqs, MAX_SEQ_LENGTH)"
   ]
  },
  {
   "cell_type": "code",
   "execution_count": 11,
   "metadata": {},
   "outputs": [
    {
     "data": {
      "text/plain": [
       "[307, 15114, 678, 3336, 2297, 47, 381, 2575, 15115, 5, 2576, 8433]"
      ]
     },
     "execution_count": 11,
     "metadata": {},
     "output_type": "execute_result"
    }
   ],
   "source": [
    "seqs[0]"
   ]
  },
  {
   "cell_type": "code",
   "execution_count": 12,
   "metadata": {},
   "outputs": [],
   "source": [
    "labels = np.asarray(df.is_sarcastic)"
   ]
  },
  {
   "cell_type": "code",
   "execution_count": 13,
   "metadata": {},
   "outputs": [
    {
     "data": {
      "text/plain": [
       "(26709, 40)"
      ]
     },
     "execution_count": 13,
     "metadata": {},
     "output_type": "execute_result"
    }
   ],
   "source": [
    "data.shape"
   ]
  },
  {
   "cell_type": "code",
   "execution_count": 14,
   "metadata": {},
   "outputs": [
    {
     "data": {
      "text/plain": [
       "(26709,)"
      ]
     },
     "execution_count": 14,
     "metadata": {},
     "output_type": "execute_result"
    }
   ],
   "source": [
    "labels.shape"
   ]
  },
  {
   "cell_type": "code",
   "execution_count": 15,
   "metadata": {},
   "outputs": [],
   "source": [
    "training_samples  = 24000\n",
    "validation_samples = 2709"
   ]
  },
  {
   "cell_type": "code",
   "execution_count": 16,
   "metadata": {},
   "outputs": [],
   "source": [
    "# Train val split\n",
    "indices = np.arange(data.shape[0])\n",
    "np.random.shuffle(indices)\n",
    "data = data[indices]\n",
    "labels = labels[indices]\n",
    "x_train = data[:training_samples]\n",
    "y_train = labels[:training_samples]\n",
    "x_val = data[training_samples: training_samples + validation_samples]\n",
    "y_val = labels[training_samples: training_samples + validation_samples]"
   ]
  },
  {
   "cell_type": "code",
   "execution_count": 17,
   "metadata": {},
   "outputs": [
    {
     "name": "stdout",
     "output_type": "stream",
     "text": [
      "X train shape (24000, 40)\n",
      "y train shape (24000,)\n"
     ]
    }
   ],
   "source": [
    "print('X train shape',x_train.shape)\n",
    "print('y train shape',y_train.shape)"
   ]
  },
  {
   "cell_type": "code",
   "execution_count": 18,
   "metadata": {},
   "outputs": [
    {
     "name": "stdout",
     "output_type": "stream",
     "text": [
      "X val shape (2709, 40)\n",
      "y val shape (2709,)\n"
     ]
    }
   ],
   "source": [
    "print('X val shape',x_val.shape)\n",
    "print('y val shape',y_val.shape)"
   ]
  },
  {
   "cell_type": "markdown",
   "metadata": {},
   "source": [
    "<a id='3.1'></a>\n",
    "# 3. Build and Train a Fully Connected model\n"
   ]
  },
  {
   "cell_type": "code",
   "execution_count": 20,
   "metadata": {},
   "outputs": [
    {
     "name": "stdout",
     "output_type": "stream",
     "text": [
      "WARNING:tensorflow:From /opt/conda/lib/python3.6/site-packages/tensorflow/python/framework/op_def_library.py:263: colocate_with (from tensorflow.python.framework.ops) is deprecated and will be removed in a future version.\n",
      "Instructions for updating:\n",
      "Colocations handled automatically by placer.\n",
      "_________________________________________________________________\n",
      "Layer (type)                 Output Shape              Param #   \n",
      "=================================================================\n",
      "embedding_1 (Embedding)      (None, 40, 6)             120000    \n",
      "_________________________________________________________________\n",
      "flatten_1 (Flatten)          (None, 240)               0         \n",
      "_________________________________________________________________\n",
      "dense_1 (Dense)              (None, 64)                15424     \n",
      "_________________________________________________________________\n",
      "dense_2 (Dense)              (None, 1)                 65        \n",
      "=================================================================\n",
      "Total params: 135,489\n",
      "Trainable params: 135,489\n",
      "Non-trainable params: 0\n",
      "_________________________________________________________________\n"
     ]
    }
   ],
   "source": [
    "# define dense model\n",
    "EMB_DIM = 6\n",
    "def fcmodel():\n",
    "    model = Sequential()\n",
    "    model.add(Embedding(input_dim=MAX_WORDS, output_dim= EMB_DIM, input_length=MAX_SEQ_LENGTH))    \n",
    "    \n",
    "    # Flatten Layer\n",
    "    model.add(Flatten())\n",
    "    \n",
    "    # FC1\n",
    "    model.add(Dense(64, activation='relu'))\n",
    "    \n",
    "    # Output layer\n",
    "    model.add(Dense(1, activation='sigmoid'))\n",
    "    \n",
    "    # print model summary\n",
    "    model.summary()\n",
    "              \n",
    "    # Compile the model\n",
    "    model.compile(optimizer = 'rmsprop',\n",
    "                 loss = 'binary_crossentropy',\n",
    "                 metrics = ['acc'])\n",
    "    return model\n",
    "\n",
    "fcmod = fcmodel()"
   ]
  },
  {
   "cell_type": "code",
   "execution_count": 21,
   "metadata": {},
   "outputs": [],
   "source": [
    "EPOCHS = 9\n",
    "BATCH_SIZE =512"
   ]
  },
  {
   "cell_type": "code",
   "execution_count": 22,
   "metadata": {},
   "outputs": [
    {
     "name": "stdout",
     "output_type": "stream",
     "text": [
      "WARNING:tensorflow:From /opt/conda/lib/python3.6/site-packages/tensorflow/python/ops/math_ops.py:3066: to_int32 (from tensorflow.python.ops.math_ops) is deprecated and will be removed in a future version.\n",
      "Instructions for updating:\n",
      "Use tf.cast instead.\n",
      "Train on 24000 samples, validate on 2709 samples\n",
      "Epoch 1/9\n",
      "24000/24000 [==============================] - 1s 32us/step - loss: 0.6680 - acc: 0.5860 - val_loss: 0.6208 - val_acc: 0.6803\n",
      "Epoch 2/9\n",
      "24000/24000 [==============================] - 0s 11us/step - loss: 0.5304 - acc: 0.7995 - val_loss: 0.4508 - val_acc: 0.8376\n",
      "Epoch 3/9\n",
      "24000/24000 [==============================] - 0s 14us/step - loss: 0.3649 - acc: 0.8734 - val_loss: 0.3537 - val_acc: 0.8571\n",
      "Epoch 4/9\n",
      "24000/24000 [==============================] - 0s 15us/step - loss: 0.2756 - acc: 0.8980 - val_loss: 0.3198 - val_acc: 0.8656\n",
      "Epoch 5/9\n",
      "24000/24000 [==============================] - 0s 14us/step - loss: 0.2247 - acc: 0.9152 - val_loss: 0.3150 - val_acc: 0.8594\n",
      "Epoch 6/9\n",
      "24000/24000 [==============================] - 0s 13us/step - loss: 0.1875 - acc: 0.9300 - val_loss: 0.3201 - val_acc: 0.8623\n",
      "Epoch 7/9\n",
      "24000/24000 [==============================] - 0s 12us/step - loss: 0.1572 - acc: 0.9429 - val_loss: 0.3249 - val_acc: 0.8697\n",
      "Epoch 8/9\n",
      "24000/24000 [==============================] - 0s 12us/step - loss: 0.1331 - acc: 0.9533 - val_loss: 0.3352 - val_acc: 0.8693\n",
      "Epoch 9/9\n",
      "24000/24000 [==============================] - 0s 12us/step - loss: 0.1107 - acc: 0.9623 - val_loss: 0.3640 - val_acc: 0.8642\n"
     ]
    }
   ],
   "source": [
    "# Train the model\n",
    "fchist = fcmod.fit(x_train, y_train,\n",
    "         epochs = EPOCHS,\n",
    "         batch_size = BATCH_SIZE,\n",
    "         validation_data = (x_val, y_val))"
   ]
  },
  {
   "cell_type": "code",
   "execution_count": 23,
   "metadata": {},
   "outputs": [
    {
     "data": {
      "image/png": "[encoded data removed]",
      "text/plain": [
       "<Figure size 432x288 with 1 Axes>"
      ]
     },
     "metadata": {},
     "output_type": "display_data"
    },
    {
     "data": {
      "image/png": "[encoded data removed]",
      "text/plain": [
       "<Figure size 432x288 with 1 Axes>"
      ]
     },
     "metadata": {},
     "output_type": "display_data"
    }
   ],
   "source": [
    "plot(fchist)"
   ]
  },
  {
   "cell_type": "markdown",
   "metadata": {},
   "source": [
    "<a id='4'></a>\n",
    "# 4. Build and Train LSTM model"
   ]
  },
  {
   "cell_type": "code",
   "execution_count": 24,
   "metadata": {},
   "outputs": [
    {
     "name": "stdout",
     "output_type": "stream",
     "text": [
      "WARNING:tensorflow:From /opt/conda/lib/python3.6/site-packages/keras/backend/tensorflow_backend.py:3445: calling dropout (from tensorflow.python.ops.nn_ops) with keep_prob is deprecated and will be removed in a future version.\n",
      "Instructions for updating:\n",
      "Please use `rate` instead of `keep_prob`. Rate should be set to `rate = 1 - keep_prob`.\n"
     ]
    }
   ],
   "source": [
    "# Lstm model\n",
    "\n",
    "def lstm():\n",
    "    model = Sequential()\n",
    "    \n",
    "    model.add(Embedding(input_dim=MAX_WORDS, output_dim=EMB_DIM, input_length=MAX_SEQ_LENGTH))\n",
    "    \n",
    "    model.add(Bidirectional(LSTM(16, return_sequences=True, recurrent_dropout=0.1, dropout=0.1)))\n",
    "    \n",
    "    model.add(Bidirectional(LSTM(32, recurrent_dropout=0.1, dropout=0.1)))\n",
    "    \n",
    "    model.add(Dense(1, activation='sigmoid'))\n",
    "    \n",
    "    # Compile the model\n",
    "    model.compile(optimizer = 'rmsprop',\n",
    "                  loss = 'binary_crossentropy',\n",
    "                  metrics = ['acc'])\n",
    "    \n",
    "    return model\n",
    "\n",
    "lsmod = lstm()"
   ]
  },
  {
   "cell_type": "code",
   "execution_count": 25,
   "metadata": {},
   "outputs": [
    {
     "name": "stdout",
     "output_type": "stream",
     "text": [
      "Train on 24000 samples, validate on 2709 samples\n",
      "Epoch 1/9\n",
      "24000/24000 [==============================] - 26s 1ms/step - loss: 0.6646 - acc: 0.5925 - val_loss: 0.5578 - val_acc: 0.7578\n",
      "Epoch 2/9\n",
      "24000/24000 [==============================] - 22s 897us/step - loss: 0.4451 - acc: 0.8107 - val_loss: 0.3756 - val_acc: 0.8365\n",
      "Epoch 3/9\n",
      "24000/24000 [==============================] - 22s 914us/step - loss: 0.3240 - acc: 0.8705 - val_loss: 0.3450 - val_acc: 0.8520\n",
      "Epoch 4/9\n",
      "24000/24000 [==============================] - 22s 926us/step - loss: 0.2647 - acc: 0.8970 - val_loss: 0.3358 - val_acc: 0.8557\n",
      "Epoch 5/9\n",
      "24000/24000 [==============================] - 22s 908us/step - loss: 0.2167 - acc: 0.9185 - val_loss: 0.3366 - val_acc: 0.8605\n",
      "Epoch 6/9\n",
      "24000/24000 [==============================] - 22s 903us/step - loss: 0.1856 - acc: 0.9311 - val_loss: 0.3510 - val_acc: 0.8649\n",
      "Epoch 7/9\n",
      "24000/24000 [==============================] - 22s 913us/step - loss: 0.1567 - acc: 0.9442 - val_loss: 0.3523 - val_acc: 0.8642\n",
      "Epoch 8/9\n",
      "24000/24000 [==============================] - 22s 917us/step - loss: 0.1369 - acc: 0.9523 - val_loss: 0.3804 - val_acc: 0.8586\n",
      "Epoch 9/9\n",
      "24000/24000 [==============================] - 21s 893us/step - loss: 0.1193 - acc: 0.9592 - val_loss: 0.4130 - val_acc: 0.8520\n"
     ]
    }
   ],
   "source": [
    "# Train the model\n",
    "lshist = lsmod.fit(x_train, y_train,\n",
    "         epochs = EPOCHS,\n",
    "         batch_size = BATCH_SIZE,\n",
    "         validation_data = (x_val, y_val))"
   ]
  },
  {
   "cell_type": "code",
   "execution_count": 26,
   "metadata": {},
   "outputs": [
    {
     "data": {
      "image/png": "[encoded data removed]",
      "text/plain": [
       "<Figure size 432x288 with 1 Axes>"
      ]
     },
     "metadata": {},
     "output_type": "display_data"
    },
    {
     "data": {
      "image/png": "[encoded data removed]",
      "text/plain": [
       "<Figure size 432x288 with 1 Axes>"
      ]
     },
     "metadata": {},
     "output_type": "display_data"
    }
   ],
   "source": [
    "plot(lshist)"
   ]
  },
  {
   "cell_type": "markdown",
   "metadata": {},
   "source": [
    "<a id='5'></a>\n",
    "# 5. Build and Train Conv1D model"
   ]
  },
  {
   "cell_type": "code",
   "execution_count": 27,
   "metadata": {},
   "outputs": [],
   "source": [
    "# Using CONV 1D\n",
    "\n",
    "def conv1d():\n",
    "    \n",
    "    model = Sequential()\n",
    "    \n",
    "    model.add(Embedding(input_dim=MAX_WORDS,output_dim=EMB_DIM, input_length=MAX_SEQ_LENGTH))\n",
    "    \n",
    "    model.add(Conv1D(filters=32, kernel_size=7, activation='relu'))\n",
    "    \n",
    "    model.add(MaxPool1D(pool_size=5))\n",
    "    \n",
    "    model.add(Conv1D(filters=32, kernel_size=3, activation='relu'))\n",
    "    \n",
    "    model.add(Dropout(0.1))\n",
    "    \n",
    "    model.add(GlobalMaxPool1D())\n",
    "    \n",
    "    model.add(Dense(1, activation='sigmoid'))\n",
    "    \n",
    "    model.compile(optimizer='rmsprop',\n",
    "                  loss='binary_crossentropy',\n",
    "                  metrics= ['acc'])\n",
    "    \n",
    "    return model\n",
    "\n",
    "convmod = conv1d()"
   ]
  },
  {
   "cell_type": "code",
   "execution_count": 28,
   "metadata": {},
   "outputs": [
    {
     "name": "stdout",
     "output_type": "stream",
     "text": [
      "WARNING:tensorflow:From /opt/conda/lib/python3.6/site-packages/tensorflow/python/ops/math_grad.py:102: div (from tensorflow.python.ops.math_ops) is deprecated and will be removed in a future version.\n",
      "Instructions for updating:\n",
      "Deprecated in favor of operator or tf.math.divide.\n",
      "Train on 24000 samples, validate on 2709 samples\n",
      "Epoch 1/20\n",
      "24000/24000 [==============================] - 2s 82us/step - loss: 0.6802 - acc: 0.5752 - val_loss: 0.6641 - val_acc: 0.6334\n",
      "Epoch 2/20\n",
      "24000/24000 [==============================] - 1s 44us/step - loss: 0.6067 - acc: 0.6890 - val_loss: 0.5448 - val_acc: 0.7508\n",
      "Epoch 3/20\n",
      "24000/24000 [==============================] - 1s 45us/step - loss: 0.4630 - acc: 0.7983 - val_loss: 0.4353 - val_acc: 0.7951\n",
      "Epoch 4/20\n",
      "24000/24000 [==============================] - 1s 49us/step - loss: 0.3595 - acc: 0.8468 - val_loss: 0.3925 - val_acc: 0.8199\n",
      "Epoch 5/20\n",
      "24000/24000 [==============================] - 1s 43us/step - loss: 0.3054 - acc: 0.8670 - val_loss: 0.3841 - val_acc: 0.8199\n",
      "Epoch 6/20\n",
      "24000/24000 [==============================] - 1s 42us/step - loss: 0.2713 - acc: 0.8819 - val_loss: 0.3884 - val_acc: 0.8162\n",
      "Epoch 7/20\n",
      "24000/24000 [==============================] - 1s 41us/step - loss: 0.2457 - acc: 0.8920 - val_loss: 0.3983 - val_acc: 0.8184\n",
      "Epoch 8/20\n",
      "24000/24000 [==============================] - 1s 47us/step - loss: 0.2253 - acc: 0.9036 - val_loss: 0.4116 - val_acc: 0.8165\n",
      "Epoch 9/20\n",
      "24000/24000 [==============================] - 1s 42us/step - loss: 0.2090 - acc: 0.9096 - val_loss: 0.4349 - val_acc: 0.8125\n",
      "Epoch 10/20\n",
      "24000/24000 [==============================] - 1s 44us/step - loss: 0.1960 - acc: 0.9159 - val_loss: 0.4439 - val_acc: 0.8165\n",
      "Epoch 11/20\n",
      "24000/24000 [==============================] - 1s 44us/step - loss: 0.1838 - acc: 0.9213 - val_loss: 0.4621 - val_acc: 0.8147\n",
      "Epoch 12/20\n",
      "24000/24000 [==============================] - 1s 44us/step - loss: 0.1726 - acc: 0.9257 - val_loss: 0.4851 - val_acc: 0.8128\n",
      "Epoch 13/20\n",
      "24000/24000 [==============================] - 1s 46us/step - loss: 0.1634 - acc: 0.9298 - val_loss: 0.5097 - val_acc: 0.8092\n",
      "Epoch 14/20\n",
      "24000/24000 [==============================] - 1s 47us/step - loss: 0.1544 - acc: 0.9336 - val_loss: 0.5305 - val_acc: 0.8051\n",
      "Epoch 15/20\n",
      "24000/24000 [==============================] - 1s 47us/step - loss: 0.1470 - acc: 0.9363 - val_loss: 0.5516 - val_acc: 0.8073\n",
      "Epoch 16/20\n",
      "24000/24000 [==============================] - 1s 46us/step - loss: 0.1412 - acc: 0.9383 - val_loss: 0.5753 - val_acc: 0.8055\n",
      "Epoch 17/20\n",
      "24000/24000 [==============================] - 1s 47us/step - loss: 0.1345 - acc: 0.9404 - val_loss: 0.5971 - val_acc: 0.8051\n",
      "Epoch 18/20\n",
      "24000/24000 [==============================] - 1s 43us/step - loss: 0.1280 - acc: 0.9439 - val_loss: 0.6281 - val_acc: 0.8018\n",
      "Epoch 19/20\n",
      "24000/24000 [==============================] - 1s 49us/step - loss: 0.1236 - acc: 0.9459 - val_loss: 0.6579 - val_acc: 0.7988\n",
      "Epoch 20/20\n",
      "24000/24000 [==============================] - 1s 46us/step - loss: 0.1178 - acc: 0.9472 - val_loss: 0.6967 - val_acc: 0.7973\n"
     ]
    },
    {
     "data": {
      "image/png": "[encoded data removed]",
      "text/plain": [
       "<Figure size 432x288 with 1 Axes>"
      ]
     },
     "metadata": {},
     "output_type": "display_data"
    },
    {
     "data": {
      "image/png": "[encoded data removed]",
      "text/plain": [
       "<Figure size 432x288 with 1 Axes>"
      ]
     },
     "metadata": {},
     "output_type": "display_data"
    }
   ],
   "source": [
    "convhist = convmod.fit(x_train, y_train,\n",
    "                      epochs = 20,\n",
    "                      batch_size = BATCH_SIZE,\n",
    "                      validation_data = (x_val, y_val))\n",
    "plot(convhist)"
   ]
  },
  {
   "cell_type": "markdown",
   "metadata": {},
   "source": [
    "<a id='6'></a>\n",
    "# 6. Build and Train Conv1D + GRU model"
   ]
  },
  {
   "cell_type": "code",
   "execution_count": 29,
   "metadata": {},
   "outputs": [],
   "source": [
    "# Using CONV 1D with GRU\n",
    "\n",
    "def convgru():\n",
    "    \n",
    "    model = Sequential()\n",
    "    \n",
    "    model.add(Embedding(input_dim=MAX_WORDS,output_dim=EMB_DIM, input_length=MAX_SEQ_LENGTH))\n",
    "    \n",
    "    model.add(Conv1D(filters=32, kernel_size=7, activation='relu'))\n",
    "    \n",
    "    model.add(MaxPool1D(pool_size=5))\n",
    "    \n",
    "    model.add(Conv1D(filters=32, kernel_size=3, activation='relu'))\n",
    "    \n",
    "    model.add(GRU(32, dropout=0.1, recurrent_dropout=0.5))\n",
    "    \n",
    "    model.add(Dense(1, activation='sigmoid'))\n",
    "    \n",
    "    model.compile(optimizer='rmsprop',\n",
    "                  loss='binary_crossentropy',\n",
    "                  metrics= ['acc'])\n",
    "    \n",
    "    return model\n",
    "\n",
    "convgrumod = convgru()"
   ]
  },
  {
   "cell_type": "code",
   "execution_count": 30,
   "metadata": {},
   "outputs": [
    {
     "name": "stdout",
     "output_type": "stream",
     "text": [
      "Train on 24000 samples, validate on 2709 samples\n",
      "Epoch 1/6\n",
      "24000/24000 [==============================] - 3s 130us/step - loss: 0.6794 - acc: 0.5753 - val_loss: 0.6518 - val_acc: 0.6489\n",
      "Epoch 2/6\n",
      "24000/24000 [==============================] - 2s 65us/step - loss: 0.5693 - acc: 0.7099 - val_loss: 0.4850 - val_acc: 0.7597\n",
      "Epoch 3/6\n",
      "24000/24000 [==============================] - 2s 65us/step - loss: 0.4094 - acc: 0.8088 - val_loss: 0.4082 - val_acc: 0.8058\n",
      "Epoch 4/6\n",
      "24000/24000 [==============================] - 2s 65us/step - loss: 0.3281 - acc: 0.8518 - val_loss: 0.3939 - val_acc: 0.8180\n",
      "Epoch 5/6\n",
      "24000/24000 [==============================] - 2s 65us/step - loss: 0.2820 - acc: 0.8755 - val_loss: 0.4074 - val_acc: 0.8173\n",
      "Epoch 6/6\n",
      "24000/24000 [==============================] - 2s 64us/step - loss: 0.2502 - acc: 0.8897 - val_loss: 0.4120 - val_acc: 0.8176\n"
     ]
    },
    {
     "data": {
      "image/png": "[encoded data removed]",
      "text/plain": [
       "<Figure size 432x288 with 1 Axes>"
      ]
     },
     "metadata": {},
     "output_type": "display_data"
    },
    {
     "data": {
      "image/png": "[encoded data removed]",
      "text/plain": [
       "<Figure size 432x288 with 1 Axes>"
      ]
     },
     "metadata": {},
     "output_type": "display_data"
    }
   ],
   "source": [
    "convgruhist = convgrumod.fit(x_train, y_train, \n",
    "                           epochs = 6,\n",
    "                           batch_size=BATCH_SIZE,\n",
    "                           validation_data = (x_val, y_val))\n",
    "plot(convgruhist)"
   ]
  },
  {
   "cell_type": "code",
   "execution_count": 31,
   "metadata": {},
   "outputs": [],
   "source": []
  }
 ],
 "metadata": {
  "kernelspec": {
   "display_name": "Python 3",
   "language": "python",
   "name": "python3"
  },
  "language_info": {
   "codemirror_mode": {
    "name": "ipython",
    "version": 3
   },
   "file_extension": ".py",
   "mimetype": "text/x-python",
   "name": "python",
   "nbconvert_exporter": "python",
   "pygments_lexer": "ipython3",
   "version": "3.7.9"
  }
 },
 "nbformat": 4,
 "nbformat_minor": 1
}

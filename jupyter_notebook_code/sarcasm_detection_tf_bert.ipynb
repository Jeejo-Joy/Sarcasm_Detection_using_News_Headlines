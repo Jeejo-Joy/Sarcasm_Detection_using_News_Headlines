{
 "cells": [
  {
   "cell_type": "markdown",
   "metadata": {},
   "source": [
    "# Sarcasm Detection using the Pre-Trained BERT model from Transformers "
   ]
  },
  {
   "cell_type": "code",
   "execution_count": 1,
   "metadata": {
    "_cell_guid": "b1076dfc-b9ad-4769-8c92-a6c4dae69d19",
    "_uuid": "8f2839f25d086af736a60e9eeb907d3b93b6e0e5",
    "execution": {
     "iopub.execute_input": "2021-06-09T04:17:13.025151Z",
     "iopub.status.busy": "2021-06-09T04:17:13.024360Z",
     "iopub.status.idle": "2021-06-09T04:17:13.044192Z",
     "shell.execute_reply": "2021-06-09T04:17:13.042927Z",
     "shell.execute_reply.started": "2021-06-09T04:17:13.025102Z"
    }
   },
   "outputs": [
    {
     "name": "stdout",
     "output_type": "stream",
     "text": [
      "/kaggle/input/news-headlines-dataset-for-sarcasm-detection/Sarcasm_Headlines_Dataset_v2.json\n",
      "/kaggle/input/news-headlines-dataset-for-sarcasm-detection/Sarcasm_Headlines_Dataset.json\n"
     ]
    }
   ],
   "source": [
    "import numpy as np \n",
    "import pandas as pd \n",
    "import os\n",
    "for dirname, _, filenames in os.walk('/kaggle/input'):\n",
    "    for filename in filenames:\n",
    "        print(os.path.join(dirname, filename))\n"
   ]
  },
  {
   "cell_type": "code",
   "execution_count": 2,
   "metadata": {
    "execution": {
     "iopub.execute_input": "2021-06-09T04:17:13.047759Z",
     "iopub.status.busy": "2021-06-09T04:17:13.047304Z",
     "iopub.status.idle": "2021-06-09T04:17:22.170150Z",
     "shell.execute_reply": "2021-06-09T04:17:22.168894Z",
     "shell.execute_reply.started": "2021-06-09T04:17:13.047715Z"
    }
   },
   "outputs": [
    {
     "name": "stderr",
     "output_type": "stream",
     "text": [
      "\u001b[34m\u001b[1mwandb\u001b[0m: \u001b[33mWARNING\u001b[0m W&B installed but not logged in.  Run `wandb login` or set the WANDB_API_KEY env variable.\n"
     ]
    }
   ],
   "source": [
    "import tensorflow as tf\n",
    "import matplotlib.pyplot as plt\n",
    "from transformers import TFBertModel, BertTokenizer\n",
    "from sklearn.model_selection import train_test_split\n"
   ]
  },
  {
   "cell_type": "code",
   "execution_count": 3,
   "metadata": {
    "_cell_guid": "79c7e3d0-c299-4dcb-8224-4455121ee9b0",
    "_uuid": "d629ff2d2480ee46fbb7e2d37f6b5fab8052498a",
    "execution": {
     "iopub.execute_input": "2021-06-09T04:17:22.172689Z",
     "iopub.status.busy": "2021-06-09T04:17:22.172195Z",
     "iopub.status.idle": "2021-06-09T04:17:22.978056Z",
     "shell.execute_reply": "2021-06-09T04:17:22.977191Z",
     "shell.execute_reply.started": "2021-06-09T04:17:22.172641Z"
    }
   },
   "outputs": [
    {
     "data": {
      "text/html": [
       "<div>\n",
       "<style scoped>\n",
       "    .dataframe tbody tr th:only-of-type {\n",
       "        vertical-align: middle;\n",
       "    }\n",
       "\n",
       "    .dataframe tbody tr th {\n",
       "        vertical-align: top;\n",
       "    }\n",
       "\n",
       "    .dataframe thead th {\n",
       "        text-align: right;\n",
       "    }\n",
       "</style>\n",
       "<table border=\"1\" class=\"dataframe\">\n",
       "  <thead>\n",
       "    <tr style=\"text-align: right;\">\n",
       "      <th></th>\n",
       "      <th>is_sarcastic</th>\n",
       "      <th>headline</th>\n",
       "      <th>article_link</th>\n",
       "    </tr>\n",
       "  </thead>\n",
       "  <tbody>\n",
       "    <tr>\n",
       "      <th>0</th>\n",
       "      <td>1</td>\n",
       "      <td>thirtysomething scientists unveil doomsday clo...</td>\n",
       "      <td>https://www.theonion.com/thirtysomething-scien...</td>\n",
       "    </tr>\n",
       "    <tr>\n",
       "      <th>1</th>\n",
       "      <td>0</td>\n",
       "      <td>dem rep. totally nails why congress is falling...</td>\n",
       "      <td>https://www.huffingtonpost.com/entry/donna-edw...</td>\n",
       "    </tr>\n",
       "    <tr>\n",
       "      <th>2</th>\n",
       "      <td>0</td>\n",
       "      <td>eat your veggies: 9 deliciously different recipes</td>\n",
       "      <td>https://www.huffingtonpost.com/entry/eat-your-...</td>\n",
       "    </tr>\n",
       "    <tr>\n",
       "      <th>3</th>\n",
       "      <td>1</td>\n",
       "      <td>inclement weather prevents liar from getting t...</td>\n",
       "      <td>https://local.theonion.com/inclement-weather-p...</td>\n",
       "    </tr>\n",
       "    <tr>\n",
       "      <th>4</th>\n",
       "      <td>1</td>\n",
       "      <td>mother comes pretty close to using word 'strea...</td>\n",
       "      <td>https://www.theonion.com/mother-comes-pretty-c...</td>\n",
       "    </tr>\n",
       "  </tbody>\n",
       "</table>\n",
       "</div>"
      ],
      "text/plain": [
       "   is_sarcastic                                           headline  \\\n",
       "0             1  thirtysomething scientists unveil doomsday clo...   \n",
       "1             0  dem rep. totally nails why congress is falling...   \n",
       "2             0  eat your veggies: 9 deliciously different recipes   \n",
       "3             1  inclement weather prevents liar from getting t...   \n",
       "4             1  mother comes pretty close to using word 'strea...   \n",
       "\n",
       "                                        article_link  \n",
       "0  https://www.theonion.com/thirtysomething-scien...  \n",
       "1  https://www.huffingtonpost.com/entry/donna-edw...  \n",
       "2  https://www.huffingtonpost.com/entry/eat-your-...  \n",
       "3  https://local.theonion.com/inclement-weather-p...  \n",
       "4  https://www.theonion.com/mother-comes-pretty-c...  "
      ]
     },
     "execution_count": 3,
     "metadata": {},
     "output_type": "execute_result"
    }
   ],
   "source": [
    "data = pd.read_json(\"../input/news-headlines-dataset-for-sarcasm-detection/Sarcasm_Headlines_Dataset_v2.json\", lines=True)\n",
    "labels = data.is_sarcastic.values\n",
    "sentences = data.headline.values\n",
    "data.head()"
   ]
  },
  {
   "cell_type": "markdown",
   "metadata": {},
   "source": [
    "**Tokenizing all the sentences using pre-trained BERT model from Tranformers**"
   ]
  },
  {
   "cell_type": "code",
   "execution_count": 4,
   "metadata": {
    "execution": {
     "iopub.execute_input": "2021-06-09T04:17:22.980333Z",
     "iopub.status.busy": "2021-06-09T04:17:22.979913Z",
     "iopub.status.idle": "2021-06-09T04:17:38.871891Z",
     "shell.execute_reply": "2021-06-09T04:17:38.870877Z",
     "shell.execute_reply.started": "2021-06-09T04:17:22.980288Z"
    }
   },
   "outputs": [
    {
     "data": {
      "application/vnd.jupyter.widget-view+json": {
       "model_id": "cf871d16a6b943c3af3619f18b25e8d2",
       "version_major": 2,
       "version_minor": 0
      },
      "text/plain": [
       "HBox(children=(FloatProgress(value=0.0, description='Downloading', max=231508.0, style=ProgressStyle(descripti…"
      ]
     },
     "metadata": {},
     "output_type": "display_data"
    },
    {
     "name": "stdout",
     "output_type": "stream",
     "text": [
      "\n"
     ]
    }
   ],
   "source": [
    "PRE_TRAINED_MODEL_NAME = 'bert-base-uncased'\n",
    "tokenizer = BertTokenizer.from_pretrained(PRE_TRAINED_MODEL_NAME,do_lower_case = True)\n",
    "\n",
    "def encoder(sentences):\n",
    "  ids = []\n",
    "  for sentence in sentences:\n",
    "    encoding = tokenizer.encode_plus(\n",
    "    sentence,\n",
    "    max_length=16,\n",
    "    truncation = True,\n",
    "    add_special_tokens=True,\n",
    "    return_token_type_ids=False,\n",
    "    pad_to_max_length=True,\n",
    "    return_attention_mask=False)\n",
    "    ids.append(encoding['input_ids'])\n",
    "  return ids\n",
    "\n",
    "#Train test split\n",
    "train_sents,test_sents, train_labels, test_labels  = train_test_split(sentences,labels,test_size=0.15)\n",
    "\n",
    "train_ids = encoder(train_sents)\n",
    "test_ids = encoder(test_sents) "
   ]
  },
  {
   "cell_type": "code",
   "execution_count": 5,
   "metadata": {
    "execution": {
     "iopub.execute_input": "2021-06-09T04:17:38.876959Z",
     "iopub.status.busy": "2021-06-09T04:17:38.876638Z",
     "iopub.status.idle": "2021-06-09T04:17:38.883779Z",
     "shell.execute_reply": "2021-06-09T04:17:38.882422Z",
     "shell.execute_reply.started": "2021-06-09T04:17:38.876929Z"
    }
   },
   "outputs": [
    {
     "name": "stdout",
     "output_type": "stream",
     "text": [
      "[\"watch vin diesel say 'i am groot' in different languages\"\n",
      " \"the lgbt activist's question that left ben carson speechless\"\n",
      " 'area man may have lied about having sex'\n",
      " 'gorgeous long exposure train photos prove the city has its own magic'\n",
      " 'video appears to show 76er jahlil okafor in street fight']\n",
      "[[101, 3422, 19354, 7937, 2360, 1005, 1045, 2572, 24665, 17206, 1005, 1999, 2367, 4155, 102, 0], [101, 1996, 12010, 7423, 1005, 1055, 3160, 2008, 2187, 3841, 9806, 25146, 102, 0, 0, 0], [101, 2181, 2158, 2089, 2031, 9828, 2055, 2383, 3348, 102, 0, 0, 0, 0, 0, 0], [101, 9882, 2146, 7524, 3345, 7760, 6011, 1996, 2103, 2038, 2049, 2219, 3894, 102, 0, 0], [101, 2678, 3544, 2000, 2265, 6146, 2121, 14855, 27766, 2140, 7929, 10354, 2953, 1999, 2395, 102]]\n"
     ]
    }
   ],
   "source": [
    "print(train_sents[:5])\n",
    "print(train_ids[:5])"
   ]
  },
  {
   "cell_type": "markdown",
   "metadata": {},
   "source": [
    "512\n",
    "vector length -> cant plot \n",
    "how to plot -> a tool  TSNE plot -> projected to 2d and plotted -> plot all these feature vectors \n",
    "\n",
    "-- \n",
    "op : 2 classes -> promintnet 2 cluster should be there\n",
    "for which word embedding or sentences the dont go in the clusters \n",
    "so why these are not in the prominent cluster \n",
    "before using the BERt model can i add a preprocessing step which can enhance the classification of the models.\n",
    "\n",
    "--\n",
    "BERT has layers, for each layer how data is being separated and in which layer it is \n",
    "\n",
    "\n",
    "-- \n",
    "or in post-processing \n",
    "validation "
   ]
  },
  {
   "cell_type": "markdown",
   "metadata": {},
   "source": [
    "Converting arrays to tensors"
   ]
  },
  {
   "cell_type": "code",
   "execution_count": 6,
   "metadata": {
    "execution": {
     "iopub.execute_input": "2021-06-09T04:17:38.889412Z",
     "iopub.status.busy": "2021-06-09T04:17:38.888579Z",
     "iopub.status.idle": "2021-06-09T04:17:38.895546Z",
     "shell.execute_reply": "2021-06-09T04:17:38.894124Z",
     "shell.execute_reply.started": "2021-06-09T04:17:38.889364Z"
    }
   },
   "outputs": [],
   "source": [
    "test_labels_x = test_labels\n",
    "test_ids_x = test_ids"
   ]
  },
  {
   "cell_type": "code",
   "execution_count": 7,
   "metadata": {
    "execution": {
     "iopub.execute_input": "2021-06-09T04:17:38.898746Z",
     "iopub.status.busy": "2021-06-09T04:17:38.897703Z",
     "iopub.status.idle": "2021-06-09T04:17:44.742018Z",
     "shell.execute_reply": "2021-06-09T04:17:44.741057Z",
     "shell.execute_reply.started": "2021-06-09T04:17:38.898696Z"
    }
   },
   "outputs": [],
   "source": [
    "\n",
    "train_ids = tf.convert_to_tensor(train_ids)\n",
    "test_ids = tf.convert_to_tensor(test_ids)\n",
    "test_labels = tf.convert_to_tensor(test_labels)\n",
    "train_labels = tf.convert_to_tensor(train_labels)"
   ]
  },
  {
   "cell_type": "code",
   "execution_count": 8,
   "metadata": {
    "execution": {
     "iopub.execute_input": "2021-06-09T04:17:44.744425Z",
     "iopub.status.busy": "2021-06-09T04:17:44.743986Z",
     "iopub.status.idle": "2021-06-09T04:17:45.074085Z",
     "shell.execute_reply": "2021-06-09T04:17:45.072418Z",
     "shell.execute_reply.started": "2021-06-09T04:17:44.744379Z"
    }
   },
   "outputs": [
    {
     "name": "stdout",
     "output_type": "stream",
     "text": [
      "tf.Tensor(\n",
      "[[  101  3422 19354  7937  2360  1005  1045  2572 24665 17206  1005  1999\n",
      "   2367  4155   102     0]\n",
      " [  101  1996 12010  7423  1005  1055  3160  2008  2187  3841  9806 25146\n",
      "    102     0     0     0]\n",
      " [  101  2181  2158  2089  2031  9828  2055  2383  3348   102     0     0\n",
      "      0     0     0     0]\n",
      " [  101  9882  2146  7524  3345  7760  6011  1996  2103  2038  2049  2219\n",
      "   3894   102     0     0]\n",
      " [  101  2678  3544  2000  2265  6146  2121 14855 27766  2140  7929 10354\n",
      "   2953  1999  2395   102]], shape=(5, 16), dtype=int32)\n",
      "tf.Tensor(\n",
      "[[  101  9932 11417 19845 25530 12805  8711  2076  4068  2143  2782   102\n",
      "      0     0     0     0]\n",
      " [  101  7133  3331  2502  2208  2055  2108  4142  2279  2095   102     0\n",
      "      0     0     0     0]\n",
      " [  101  2111  5223 10958 14227 21135  2061  2172  2009  2453  3465 18520\n",
      "   7207  4307   102     0]\n",
      " [  101  3899  2064  1005  1056  2903  3954  2187  2006  8239  5796 28957\n",
      "   2000  2562  2009   102]\n",
      " [  101  2122 13528 22276  2808  2020  2105  2077  4639 22276  2001  4658\n",
      "    102     0     0     0]], shape=(5, 16), dtype=int32)\n",
      "tf.Tensor([0 1 0 1 0], shape=(5,), dtype=int64)\n"
     ]
    }
   ],
   "source": [
    "\n",
    "print(train_ids[:5])\n",
    "print(test_ids[:5])\n",
    "print(test_labels[:5])"
   ]
  },
  {
   "cell_type": "markdown",
   "metadata": {},
   "source": [
    "Building Model from transformers using pre-trained bert-base-uncased (12-layer, 768-hidden, 12-heads, 110M parameters.)"
   ]
  },
  {
   "cell_type": "code",
   "execution_count": 9,
   "metadata": {
    "execution": {
     "iopub.execute_input": "2021-06-09T04:17:45.076595Z",
     "iopub.status.busy": "2021-06-09T04:17:45.076118Z",
     "iopub.status.idle": "2021-06-09T04:18:09.006867Z",
     "shell.execute_reply": "2021-06-09T04:18:09.005826Z",
     "shell.execute_reply.started": "2021-06-09T04:17:45.076540Z"
    }
   },
   "outputs": [
    {
     "data": {
      "application/vnd.jupyter.widget-view+json": {
       "model_id": "b5acb980060e455a9f7ab20b0f02bdf8",
       "version_major": 2,
       "version_minor": 0
      },
      "text/plain": [
       "HBox(children=(FloatProgress(value=0.0, description='Downloading', max=433.0, style=ProgressStyle(description_…"
      ]
     },
     "metadata": {},
     "output_type": "display_data"
    },
    {
     "name": "stdout",
     "output_type": "stream",
     "text": [
      "\n"
     ]
    },
    {
     "data": {
      "application/vnd.jupyter.widget-view+json": {
       "model_id": "ba4af31b376c4be084d08a52c4f655c7",
       "version_major": 2,
       "version_minor": 0
      },
      "text/plain": [
       "HBox(children=(FloatProgress(value=0.0, description='Downloading', max=536063208.0, style=ProgressStyle(descri…"
      ]
     },
     "metadata": {},
     "output_type": "display_data"
    },
    {
     "name": "stdout",
     "output_type": "stream",
     "text": [
      "\n"
     ]
    },
    {
     "data": {
      "text/plain": [
       "<transformers.modeling_tf_bert.TFBertModel at 0x7f10da10e1d0>"
      ]
     },
     "execution_count": 9,
     "metadata": {},
     "output_type": "execute_result"
    }
   ],
   "source": [
    "bert_encoder = TFBertModel.from_pretrained('bert-base-uncased')\n",
    "bert_encoder"
   ]
  },
  {
   "cell_type": "code",
   "execution_count": 10,
   "metadata": {
    "execution": {
     "iopub.execute_input": "2021-06-09T04:18:09.011098Z",
     "iopub.status.busy": "2021-06-09T04:18:09.010750Z",
     "iopub.status.idle": "2021-06-09T04:18:13.135764Z",
     "shell.execute_reply": "2021-06-09T04:18:13.134246Z",
     "shell.execute_reply.started": "2021-06-09T04:18:09.011066Z"
    }
   },
   "outputs": [
    {
     "data": {
      "text/plain": [
       "(<tf.Tensor 'tf_bert_model/bert/encoder/layer_._11/output/LayerNorm/batchnorm/add_1:0' shape=(None, 16, 768) dtype=float32>,\n",
       " <tf.Tensor 'tf_bert_model/bert/pooler/dense/Tanh:0' shape=(None, 768) dtype=float32>)"
      ]
     },
     "execution_count": 10,
     "metadata": {},
     "output_type": "execute_result"
    }
   ],
   "source": [
    "input_word_ids = tf.keras.Input(shape=(16,), dtype=tf.int32, name=\"input_word_ids\")  \n",
    "# input_word_ids\n",
    "embedding = bert_encoder([input_word_ids])\n",
    "embedding"
   ]
  },
  {
   "cell_type": "code",
   "execution_count": 11,
   "metadata": {
    "execution": {
     "iopub.execute_input": "2021-06-09T04:18:13.138506Z",
     "iopub.status.busy": "2021-06-09T04:18:13.137992Z",
     "iopub.status.idle": "2021-06-09T04:18:17.614880Z",
     "shell.execute_reply": "2021-06-09T04:18:17.613713Z",
     "shell.execute_reply.started": "2021-06-09T04:18:13.138456Z"
    }
   },
   "outputs": [],
   "source": [
    "bert_encoder = TFBertModel.from_pretrained('bert-base-uncased')\n",
    "input_word_ids = tf.keras.Input(shape=(16,), dtype=tf.int32, name=\"input_word_ids\")  \n",
    "embedding = bert_encoder([input_word_ids])\n",
    "dense = tf.keras.layers.Lambda(lambda seq: seq[:, 0, :])(embedding[0])\n",
    "dense = tf.keras.layers.Dense(128, activation='relu')(dense)\n",
    "dense = tf.keras.layers.Dropout(0.2)(dense)   \n",
    "output = tf.keras.layers.Dense(1, activation='sigmoid')(dense)    \n",
    "\n",
    "model = tf.keras.Model(inputs=[input_word_ids], outputs=output)  \n"
   ]
  },
  {
   "cell_type": "code",
   "execution_count": 12,
   "metadata": {
    "execution": {
     "iopub.execute_input": "2021-06-09T04:18:17.617280Z",
     "iopub.status.busy": "2021-06-09T04:18:17.616758Z",
     "iopub.status.idle": "2021-06-09T04:18:17.683607Z",
     "shell.execute_reply": "2021-06-09T04:18:17.678864Z",
     "shell.execute_reply.started": "2021-06-09T04:18:17.617234Z"
    }
   },
   "outputs": [
    {
     "name": "stdout",
     "output_type": "stream",
     "text": [
      "Model: \"functional_1\"\n",
      "_________________________________________________________________\n",
      "Layer (type)                 Output Shape              Param #   \n",
      "=================================================================\n",
      "input_word_ids (InputLayer)  [(None, 16)]              0         \n",
      "_________________________________________________________________\n",
      "tf_bert_model_1 (TFBertModel ((None, 16, 768), (None,  109482240 \n",
      "_________________________________________________________________\n",
      "lambda (Lambda)              (None, 768)               0         \n",
      "_________________________________________________________________\n",
      "dense (Dense)                (None, 128)               98432     \n",
      "_________________________________________________________________\n",
      "dropout_74 (Dropout)         (None, 128)               0         \n",
      "_________________________________________________________________\n",
      "dense_1 (Dense)              (None, 1)                 129       \n",
      "=================================================================\n",
      "Total params: 109,580,801\n",
      "Trainable params: 109,580,801\n",
      "Non-trainable params: 0\n",
      "_________________________________________________________________\n"
     ]
    }
   ],
   "source": [
    "model.compile(tf.keras.optimizers.Adam(1e-5), loss='binary_crossentropy', metrics=['accuracy'])\n",
    "model.summary()"
   ]
  },
  {
   "cell_type": "code",
   "execution_count": 13,
   "metadata": {
    "execution": {
     "iopub.execute_input": "2021-06-09T04:18:17.687719Z",
     "iopub.status.busy": "2021-06-09T04:18:17.687387Z",
     "iopub.status.idle": "2021-06-09T04:23:02.174337Z",
     "shell.execute_reply": "2021-06-09T04:23:02.173244Z",
     "shell.execute_reply.started": "2021-06-09T04:18:17.687688Z"
    }
   },
   "outputs": [
    {
     "name": "stdout",
     "output_type": "stream",
     "text": [
      "Epoch 1/3\n",
      "761/761 [==============================] - 90s 119ms/step - loss: 0.3091 - accuracy: 0.8637 - val_loss: 0.2168 - val_accuracy: 0.9133\n",
      "Epoch 2/3\n",
      "761/761 [==============================] - 87s 114ms/step - loss: 0.1687 - accuracy: 0.9345 - val_loss: 0.1918 - val_accuracy: 0.9227\n",
      "Epoch 3/3\n",
      "761/761 [==============================] - 86s 113ms/step - loss: 0.0963 - accuracy: 0.9653 - val_loss: 0.2204 - val_accuracy: 0.9210\n"
     ]
    }
   ],
   "source": [
    "history = model.fit(x = train_ids, y = train_labels, epochs = 3, verbose = 1, batch_size = 32, validation_data = (test_ids, test_labels))"
   ]
  },
  {
   "cell_type": "code",
   "execution_count": 14,
   "metadata": {
    "execution": {
     "iopub.execute_input": "2021-06-09T04:23:02.176519Z",
     "iopub.status.busy": "2021-06-09T04:23:02.176117Z",
     "iopub.status.idle": "2021-06-09T04:23:02.593023Z",
     "shell.execute_reply": "2021-06-09T04:23:02.591334Z",
     "shell.execute_reply.started": "2021-06-09T04:23:02.176484Z"
    }
   },
   "outputs": [
    {
     "data": {
      "image/png": "[encoded data removed]",
      "text/plain": [
       "<Figure size 432x288 with 1 Axes>"
      ]
     },
     "metadata": {
      "needs_background": "light"
     },
     "output_type": "display_data"
    },
    {
     "data": {
      "image/png": "[encoded data removed]",
      "text/plain": [
       "<Figure size 432x288 with 1 Axes>"
      ]
     },
     "metadata": {
      "needs_background": "light"
     },
     "output_type": "display_data"
    }
   ],
   "source": [
    "def plot_graphs(history, string):\n",
    "  plt.plot(history.history[string])\n",
    "  plt.plot(history.history['val_'+string])\n",
    "  plt.xlabel(\"Epochs\")\n",
    "  plt.ylabel(string)\n",
    "  plt.legend([string, 'val_'+string])\n",
    "  plt.show()\n",
    "\n",
    "plot_graphs(history, 'accuracy')\n",
    "plot_graphs(history, 'loss')"
   ]
  },
  {
   "cell_type": "code",
   "execution_count": 15,
   "metadata": {
    "execution": {
     "iopub.execute_input": "2021-06-09T04:23:02.595830Z",
     "iopub.status.busy": "2021-06-09T04:23:02.595331Z",
     "iopub.status.idle": "2021-06-09T04:23:02.601731Z",
     "shell.execute_reply": "2021-06-09T04:23:02.600269Z",
     "shell.execute_reply.started": "2021-06-09T04:23:02.595761Z"
    }
   },
   "outputs": [],
   "source": [
    "model1 = model"
   ]
  },
  {
   "cell_type": "code",
   "execution_count": 16,
   "metadata": {
    "execution": {
     "iopub.execute_input": "2021-06-09T04:23:02.604627Z",
     "iopub.status.busy": "2021-06-09T04:23:02.604061Z",
     "iopub.status.idle": "2021-06-09T04:23:03.313525Z",
     "shell.execute_reply": "2021-06-09T04:23:03.312283Z",
     "shell.execute_reply.started": "2021-06-09T04:23:02.604546Z"
    }
   },
   "outputs": [
    {
     "data": {
      "image/png": "[encoded data removed]",
      "text/plain": [
       "<IPython.core.display.Image object>"
      ]
     },
     "execution_count": 16,
     "metadata": {},
     "output_type": "execute_result"
    }
   ],
   "source": [
    "from keras.utils.vis_utils import plot_model\n",
    "# model = Sequential()\n",
    "# model.add(Dense(2, input_dim=1, activation='relu'))\n",
    "# model.add(Dense(1, activation='sigmoid'))\n",
    "plot_model(model1, to_file='TFBertModel_plot.png', show_shapes=True, show_layer_names=True)"
   ]
  },
  {
   "cell_type": "code",
   "execution_count": 17,
   "metadata": {
    "execution": {
     "iopub.execute_input": "2021-06-09T04:23:03.316275Z",
     "iopub.status.busy": "2021-06-09T04:23:03.315882Z",
     "iopub.status.idle": "2021-06-09T04:23:12.414294Z",
     "shell.execute_reply": "2021-06-09T04:23:12.413259Z",
     "shell.execute_reply.started": "2021-06-09T04:23:03.316245Z"
    }
   },
   "outputs": [
    {
     "name": "stdout",
     "output_type": "stream",
     "text": [
      "[[0.02870473]\n",
      " [0.9945726 ]\n",
      " [0.01720729]]\n",
      "[0 0 0]\n"
     ]
    }
   ],
   "source": [
    "# (test_ids, test_labels))\n",
    "# predict probabilities for test set\n",
    "yhat_probs = model.predict(test_ids, verbose=0)\n",
    "# predict crisp classes for test set\n",
    "# yhat_classes = model.predict_classes(test_ids, verbose=0)\n",
    "\n",
    "# source: https://stackoverflow.com/questions/38971293/get-class-labels-from-keras-functional-model\n",
    "yhat_classes = yhat_probs.argmax(axis=-1)\n",
    "\n",
    "print(yhat_probs[:3])\n",
    "print(yhat_classes[:3])\n",
    "# reduce to 1d array\n",
    "yhat_probs = yhat_probs[:, 0]\n",
    "yhat_classes = yhat_classes"
   ]
  },
  {
   "cell_type": "code",
   "execution_count": 18,
   "metadata": {
    "execution": {
     "iopub.execute_input": "2021-06-09T04:23:12.416880Z",
     "iopub.status.busy": "2021-06-09T04:23:12.416496Z",
     "iopub.status.idle": "2021-06-09T04:23:12.440269Z",
     "shell.execute_reply": "2021-06-09T04:23:12.439265Z",
     "shell.execute_reply.started": "2021-06-09T04:23:12.416849Z"
    }
   },
   "outputs": [],
   "source": [
    "# https://stackoverflow.com/questions/55074681/how-to-find-the-wrong-predictions-in-keras\n",
    "\n",
    "# model.fit(x_nyha, y_nyha, batch_size=batch_size, epochs=num_epochs, verbose=1)\n",
    "# prediction = np.round(model.predict(test_ids))\n",
    "test_labels1 = tf.cast(test_labels, dtype='float')\n",
    "yhat_probs1 = tf.convert_to_tensor(np.round(yhat_probs))\n",
    "wrong_predictions = test_labels[yhat_probs1 != test_labels1]\n"
   ]
  },
  {
   "cell_type": "code",
   "execution_count": 19,
   "metadata": {
    "execution": {
     "iopub.execute_input": "2021-06-09T04:23:12.444014Z",
     "iopub.status.busy": "2021-06-09T04:23:12.443655Z",
     "iopub.status.idle": "2021-06-09T04:23:12.456314Z",
     "shell.execute_reply": "2021-06-09T04:23:12.455070Z",
     "shell.execute_reply.started": "2021-06-09T04:23:12.443970Z"
    }
   },
   "outputs": [
    {
     "data": {
      "text/plain": [
       "<tf.Tensor: shape=(10,), dtype=float32, numpy=array([0., 1., 0., 1., 0., 1., 0., 1., 0., 0.], dtype=float32)>"
      ]
     },
     "execution_count": 19,
     "metadata": {},
     "output_type": "execute_result"
    }
   ],
   "source": [
    "test_labels1[:10]"
   ]
  },
  {
   "cell_type": "code",
   "execution_count": 20,
   "metadata": {
    "execution": {
     "iopub.execute_input": "2021-06-09T04:23:12.458539Z",
     "iopub.status.busy": "2021-06-09T04:23:12.458210Z",
     "iopub.status.idle": "2021-06-09T04:23:12.472603Z",
     "shell.execute_reply": "2021-06-09T04:23:12.471420Z",
     "shell.execute_reply.started": "2021-06-09T04:23:12.458495Z"
    }
   },
   "outputs": [
    {
     "data": {
      "text/plain": [
       "<tf.Tensor: shape=(10,), dtype=float32, numpy=array([0., 1., 0., 1., 0., 1., 0., 0., 0., 0.], dtype=float32)>"
      ]
     },
     "execution_count": 20,
     "metadata": {},
     "output_type": "execute_result"
    }
   ],
   "source": [
    "yhat_probs1[:10]"
   ]
  },
  {
   "cell_type": "code",
   "execution_count": 21,
   "metadata": {
    "execution": {
     "iopub.execute_input": "2021-06-09T04:23:12.475477Z",
     "iopub.status.busy": "2021-06-09T04:23:12.474640Z",
     "iopub.status.idle": "2021-06-09T04:23:12.483273Z",
     "shell.execute_reply": "2021-06-09T04:23:12.481985Z",
     "shell.execute_reply.started": "2021-06-09T04:23:12.475433Z"
    }
   },
   "outputs": [
    {
     "data": {
      "text/plain": [
       "<tf.Tensor: shape=(10,), dtype=int64, numpy=array([1, 0, 1, 0, 1, 1, 1, 0, 1, 1])>"
      ]
     },
     "execution_count": 21,
     "metadata": {},
     "output_type": "execute_result"
    }
   ],
   "source": [
    "wrong_predictions[:10]"
   ]
  },
  {
   "cell_type": "code",
   "execution_count": 22,
   "metadata": {
    "execution": {
     "iopub.execute_input": "2021-06-09T04:23:12.485872Z",
     "iopub.status.busy": "2021-06-09T04:23:12.485091Z",
     "iopub.status.idle": "2021-06-09T04:23:12.497941Z",
     "shell.execute_reply": "2021-06-09T04:23:12.496326Z",
     "shell.execute_reply.started": "2021-06-09T04:23:12.485826Z"
    }
   },
   "outputs": [
    {
     "data": {
      "text/plain": [
       "<tf.Tensor: shape=(339,), dtype=int64, numpy=\n",
       "array([1, 0, 1, 0, 1, 1, 1, 0, 1, 1, 1, 0, 0, 0, 0, 0, 0, 1, 1, 0, 1, 1,\n",
       "       1, 1, 1, 0, 1, 1, 1, 1, 0, 1, 0, 1, 1, 1, 0, 1, 0, 0, 1, 1, 1, 1,\n",
       "       0, 0, 0, 0, 0, 1, 1, 1, 0, 0, 0, 1, 0, 0, 1, 0, 0, 1, 0, 1, 1, 0,\n",
       "       1, 0, 0, 0, 1, 1, 0, 0, 1, 0, 0, 0, 0, 0, 0, 1, 1, 1, 1, 1, 1, 0,\n",
       "       1, 1, 0, 1, 0, 1, 0, 0, 0, 1, 0, 1, 1, 1, 1, 0, 1, 1, 1, 1, 0, 1,\n",
       "       0, 1, 1, 0, 0, 0, 1, 1, 0, 1, 0, 1, 0, 1, 0, 1, 0, 0, 0, 1, 1, 0,\n",
       "       0, 1, 0, 0, 1, 1, 1, 0, 1, 1, 0, 0, 1, 0, 0, 1, 0, 0, 1, 1, 0, 1,\n",
       "       1, 0, 0, 0, 0, 1, 1, 1, 0, 0, 1, 1, 1, 0, 1, 1, 1, 0, 0, 1, 1, 0,\n",
       "       1, 0, 1, 1, 0, 0, 0, 0, 0, 1, 1, 0, 1, 0, 0, 0, 1, 0, 1, 1, 0, 1,\n",
       "       0, 0, 1, 0, 1, 0, 0, 0, 0, 0, 1, 1, 1, 1, 0, 1, 1, 1, 0, 1, 1, 1,\n",
       "       0, 1, 0, 1, 1, 1, 0, 1, 0, 1, 1, 1, 1, 1, 1, 1, 1, 1, 1, 1, 0, 0,\n",
       "       1, 0, 1, 0, 0, 0, 1, 1, 1, 1, 1, 0, 1, 0, 1, 1, 0, 0, 0, 1, 0, 1,\n",
       "       0, 1, 1, 0, 1, 0, 1, 0, 0, 0, 1, 1, 1, 0, 0, 0, 1, 1, 1, 0, 1, 1,\n",
       "       1, 1, 1, 1, 1, 1, 0, 0, 0, 0, 0, 0, 0, 1, 0, 1, 1, 1, 0, 0, 0, 1,\n",
       "       1, 0, 1, 1, 0, 1, 1, 1, 1, 1, 1, 1, 0, 0, 1, 1, 0, 1, 1, 1, 0, 1,\n",
       "       0, 1, 0, 1, 0, 0, 0, 1, 1])>"
      ]
     },
     "execution_count": 22,
     "metadata": {},
     "output_type": "execute_result"
    }
   ],
   "source": [
    "wrong_predictions"
   ]
  },
  {
   "cell_type": "code",
   "execution_count": 23,
   "metadata": {
    "execution": {
     "iopub.execute_input": "2021-06-09T04:23:12.500481Z",
     "iopub.status.busy": "2021-06-09T04:23:12.499657Z",
     "iopub.status.idle": "2021-06-09T04:23:12.510846Z",
     "shell.execute_reply": "2021-06-09T04:23:12.509683Z",
     "shell.execute_reply.started": "2021-06-09T04:23:12.500432Z"
    }
   },
   "outputs": [],
   "source": [
    "wrong_predictions_test_sents = test_sents[yhat_probs1 != test_labels1]\n",
    "# wrong_predictions_test_ids_x = test_ids_x[yhat_probs1 != test_labels1]\n",
    "wrong_predictions_test_ids = test_ids[yhat_probs1 != test_labels1]\n",
    "\n"
   ]
  },
  {
   "cell_type": "code",
   "execution_count": 24,
   "metadata": {
    "execution": {
     "iopub.execute_input": "2021-06-09T04:23:12.514906Z",
     "iopub.status.busy": "2021-06-09T04:23:12.514060Z",
     "iopub.status.idle": "2021-06-09T04:23:12.523521Z",
     "shell.execute_reply": "2021-06-09T04:23:12.521900Z",
     "shell.execute_reply.started": "2021-06-09T04:23:12.514858Z"
    }
   },
   "outputs": [
    {
     "name": "stdout",
     "output_type": "stream",
     "text": [
      "['oil prices soar like noble eagle'\n",
      " 'conservative media finally starting to realize that racism is a problem'\n",
      " 'paul ryan quickly runs tweet about texas shooting past wayne lapierre before posting'\n",
      " \"church honors 'dearly beloved' prince by putting his lyrics on sign\"\n",
      " 'son needs costume, 30 individually wrapped treats tomorrow morning for some school celebration'\n",
      " 'garroting survivors call for wire ban'\n",
      " 'acne medication may cause dizziness, nausea, loss of hearing, insomnia, blood clotting, difficulty breathing'\n",
      " 'woman gets several job offers after handing out resumes on the side of the road'\n",
      " 'americans demand military response after chinese shoot down directv satellite'\n",
      " \"gallant amazon user heroically defends 'fringe' season 2 box set from negative reviewers\"]\n",
      "tf.Tensor(\n",
      "[[  101  3514  7597  2061  2906  2066  7015  6755   102     0     0     0\n",
      "      0     0     0     0]\n",
      " [  101  4603  2865  2633  3225  2000  5382  2008 14398  2003  1037  3291\n",
      "    102     0     0     0]\n",
      " [  101  2703  4575  2855  3216  1056 28394  2102  2055  3146  5008  2627\n",
      "   6159  5001  3771   102]\n",
      " [  101  2277  7836  1005  6203  2135 11419  1005  3159  2011  5128  2010\n",
      "   4581  2006  3696   102]\n",
      " [  101  2365  3791  9427  1010  2382 14258  5058 18452  4826  2851  2005\n",
      "   2070  2082  7401   102]\n",
      " [  101 11721 18933  3436  8643  2655  2005  7318  7221   102     0     0\n",
      "      0     0     0     0]\n",
      " [  101  9353  2638 14667  2089  3426  4487 29212  1010 19029  1010  3279\n",
      "   1997  4994  1010   102]\n",
      " [  101  2450  4152  2195  3105  4107  2044 13041  2041 13746  2015  2006\n",
      "   1996  2217  1997   102]\n",
      " [  101  4841  5157  2510  3433  2044  2822  5607  2091  3622  2615  5871\n",
      "    102     0     0     0]\n",
      " [  101 26984  9733  5310 14779  3973  6985  2015  1005 13548  1005  2161\n",
      "   1016  3482  2275   102]], shape=(10, 16), dtype=int32)\n"
     ]
    }
   ],
   "source": [
    "print(wrong_predictions_test_sents[:10])\n",
    "# print(wrong_predictions_test_ids_x[:10])\n",
    "print(wrong_predictions_test_ids[:10])\n"
   ]
  },
  {
   "cell_type": "code",
   "execution_count": 25,
   "metadata": {
    "execution": {
     "iopub.execute_input": "2021-06-09T04:23:12.526271Z",
     "iopub.status.busy": "2021-06-09T04:23:12.525466Z",
     "iopub.status.idle": "2021-06-09T04:23:16.060834Z",
     "shell.execute_reply": "2021-06-09T04:23:16.059865Z",
     "shell.execute_reply.started": "2021-06-09T04:23:12.526226Z"
    }
   },
   "outputs": [],
   "source": [
    "# https://www.edureka.co/community/22922/index-of-predicted-wrong-data-in-keras-how-to-find-it\n",
    "# pred = model.predict(test_ids)\n",
    "pred = yhat_probs\n",
    "indices = [i for i,v in enumerate(pred) if pred[i]!=test_labels[i]]\n",
    "subset_of_wrongly_predicted = [test_labels[i] for i in indices ]"
   ]
  },
  {
   "cell_type": "code",
   "execution_count": 26,
   "metadata": {
    "execution": {
     "iopub.execute_input": "2021-06-09T04:23:16.062881Z",
     "iopub.status.busy": "2021-06-09T04:23:16.062408Z",
     "iopub.status.idle": "2021-06-09T04:23:16.087879Z",
     "shell.execute_reply": "2021-06-09T04:23:16.086181Z",
     "shell.execute_reply.started": "2021-06-09T04:23:16.062828Z"
    }
   },
   "outputs": [
    {
     "name": "stdout",
     "output_type": "stream",
     "text": [
      "1\n",
      "tf.Tensor(1, shape=(), dtype=int64)\n",
      "3\n",
      "tf.Tensor(1, shape=(), dtype=int64)\n",
      "5\n",
      "tf.Tensor(1, shape=(), dtype=int64)\n",
      "7\n",
      "tf.Tensor(1, shape=(), dtype=int64)\n",
      "13\n",
      "tf.Tensor(1, shape=(), dtype=int64)\n",
      "15\n",
      "tf.Tensor(1, shape=(), dtype=int64)\n",
      "16\n",
      "tf.Tensor(1, shape=(), dtype=int64)\n",
      "17\n",
      "tf.Tensor(1, shape=(), dtype=int64)\n",
      "20\n",
      "tf.Tensor(1, shape=(), dtype=int64)\n",
      "23\n",
      "tf.Tensor(1, shape=(), dtype=int64)\n",
      "26\n",
      "tf.Tensor(1, shape=(), dtype=int64)\n"
     ]
    }
   ],
   "source": [
    "cnt = 0\n",
    "for i in indices:\n",
    "    print(i)\n",
    "    print(test_labels[i])\n",
    "    cnt+=1\n",
    "    if cnt>10:\n",
    "        break\n",
    "        \n",
    "    "
   ]
  },
  {
   "cell_type": "code",
   "execution_count": 27,
   "metadata": {
    "execution": {
     "iopub.execute_input": "2021-06-09T04:23:16.090357Z",
     "iopub.status.busy": "2021-06-09T04:23:16.090070Z",
     "iopub.status.idle": "2021-06-09T04:23:16.107394Z",
     "shell.execute_reply": "2021-06-09T04:23:16.105364Z",
     "shell.execute_reply.started": "2021-06-09T04:23:16.090327Z"
    }
   },
   "outputs": [
    {
     "name": "stdout",
     "output_type": "stream",
     "text": [
      "\n",
      " original sentence: \n",
      "\n",
      "['ai weiwei commemorates drowned refugees during berlin film festival'\n",
      " 'grandmother talking big game about being alive next year'\n",
      " 'people hate rahm emanuel so much it might cost hillary clinton illinois'\n",
      " \"dog can't believe owner left on fucking msnbc to keep it company while she at work\"\n",
      " 'these vintage coloring books were around before adult coloring was cool'\n",
      " 'nation allows itself 5 minutes to believe this all going to be over soon'\n",
      " \"32 data breaches larger than sony's in the past year\"\n",
      " 'oil prices soar like noble eagle'\n",
      " \"friday's morning email: here's how trump is undermining obamacare\"\n",
      " 'an eye-opening look at school playgrounds around the world']\n",
      "\n",
      " BERT encoded tokenized sentence ids: \n",
      "\n",
      "[[101, 9932, 11417, 19845, 25530, 12805, 8711, 2076, 4068, 2143, 2782, 102, 0, 0, 0, 0], [101, 7133, 3331, 2502, 2208, 2055, 2108, 4142, 2279, 2095, 102, 0, 0, 0, 0, 0], [101, 2111, 5223, 10958, 14227, 21135, 2061, 2172, 2009, 2453, 3465, 18520, 7207, 4307, 102, 0], [101, 3899, 2064, 1005, 1056, 2903, 3954, 2187, 2006, 8239, 5796, 28957, 2000, 2562, 2009, 102], [101, 2122, 13528, 22276, 2808, 2020, 2105, 2077, 4639, 22276, 2001, 4658, 102, 0, 0, 0], [101, 3842, 4473, 2993, 1019, 2781, 2000, 2903, 2023, 2035, 2183, 2000, 2022, 2058, 2574, 102], [101, 3590, 2951, 12510, 2229, 3469, 2084, 8412, 1005, 1055, 1999, 1996, 2627, 2095, 102, 0], [101, 3514, 7597, 2061, 2906, 2066, 7015, 6755, 102, 0, 0, 0, 0, 0, 0, 0], [101, 5958, 1005, 1055, 2851, 10373, 1024, 2182, 1005, 1055, 2129, 8398, 2003, 2104, 25300, 102], [101, 2019, 3239, 1011, 3098, 2298, 2012, 2082, 14705, 2015, 2105, 1996, 2088, 102, 0, 0]]\n",
      "\n",
      " Labels orginal: \n",
      "\n",
      "[0 1 0 1 0 1 0 1 0 0]\n",
      "\n",
      " tensor converted sentence ids: \n",
      "\n",
      "tf.Tensor(\n",
      "[[  101  9932 11417 19845 25530 12805  8711  2076  4068  2143  2782   102\n",
      "      0     0     0     0]\n",
      " [  101  7133  3331  2502  2208  2055  2108  4142  2279  2095   102     0\n",
      "      0     0     0     0]\n",
      " [  101  2111  5223 10958 14227 21135  2061  2172  2009  2453  3465 18520\n",
      "   7207  4307   102     0]\n",
      " [  101  3899  2064  1005  1056  2903  3954  2187  2006  8239  5796 28957\n",
      "   2000  2562  2009   102]\n",
      " [  101  2122 13528 22276  2808  2020  2105  2077  4639 22276  2001  4658\n",
      "    102     0     0     0]\n",
      " [  101  3842  4473  2993  1019  2781  2000  2903  2023  2035  2183  2000\n",
      "   2022  2058  2574   102]\n",
      " [  101  3590  2951 12510  2229  3469  2084  8412  1005  1055  1999  1996\n",
      "   2627  2095   102     0]\n",
      " [  101  3514  7597  2061  2906  2066  7015  6755   102     0     0     0\n",
      "      0     0     0     0]\n",
      " [  101  5958  1005  1055  2851 10373  1024  2182  1005  1055  2129  8398\n",
      "   2003  2104 25300   102]\n",
      " [  101  2019  3239  1011  3098  2298  2012  2082 14705  2015  2105  1996\n",
      "   2088   102     0     0]], shape=(10, 16), dtype=int32)\n",
      "\n",
      " tensor converted sentence labels: \n",
      "\n",
      "tf.Tensor([0 1 0 1 0 1 0 1 0 0], shape=(10,), dtype=int64)\n",
      "\n",
      "---------------\n"
     ]
    }
   ],
   "source": [
    "# test_labels_x = test_labels\n",
    "# test_ids_x = test_ids\n",
    "# test_sents\n",
    "print('\\n original sentence: \\n')\n",
    "print(test_sents[:10])\n",
    "print('\\n BERT encoded tokenized sentence ids: \\n')\n",
    "print(test_ids_x[:10])\n",
    "print('\\n Labels orginal: \\n')\n",
    "print(test_labels_x[:10])\n",
    "print('\\n tensor converted sentence ids: \\n')\n",
    "print(test_ids[:10])\n",
    "print('\\n tensor converted sentence labels: \\n')\n",
    "print(test_labels[:10])\n",
    "print('\\n---------------')"
   ]
  },
  {
   "cell_type": "code",
   "execution_count": 28,
   "metadata": {
    "execution": {
     "iopub.execute_input": "2021-06-09T04:23:16.110882Z",
     "iopub.status.busy": "2021-06-09T04:23:16.110065Z",
     "iopub.status.idle": "2021-06-09T04:23:16.126079Z",
     "shell.execute_reply": "2021-06-09T04:23:16.124871Z",
     "shell.execute_reply.started": "2021-06-09T04:23:16.110833Z"
    }
   },
   "outputs": [
    {
     "name": "stdout",
     "output_type": "stream",
     "text": [
      "2077\n",
      "(4293,)\n"
     ]
    },
    {
     "data": {
      "text/plain": [
       "[<tf.Tensor: shape=(), dtype=int64, numpy=1>,\n",
       " <tf.Tensor: shape=(), dtype=int64, numpy=1>,\n",
       " <tf.Tensor: shape=(), dtype=int64, numpy=1>,\n",
       " <tf.Tensor: shape=(), dtype=int64, numpy=1>,\n",
       " <tf.Tensor: shape=(), dtype=int64, numpy=1>]"
      ]
     },
     "execution_count": 28,
     "metadata": {},
     "output_type": "execute_result"
    }
   ],
   "source": [
    "print(len(subset_of_wrongly_predicted))\n",
    "print(test_labels.shape)\n",
    "subset_of_wrongly_predicted[:5]"
   ]
  },
  {
   "cell_type": "code",
   "execution_count": 29,
   "metadata": {
    "execution": {
     "iopub.execute_input": "2021-06-09T04:23:16.129049Z",
     "iopub.status.busy": "2021-06-09T04:23:16.128525Z",
     "iopub.status.idle": "2021-06-09T04:23:16.137466Z",
     "shell.execute_reply": "2021-06-09T04:23:16.136038Z",
     "shell.execute_reply.started": "2021-06-09T04:23:16.128998Z"
    }
   },
   "outputs": [],
   "source": [
    "from sklearn.metrics import accuracy_score\n",
    "from sklearn.metrics import precision_score\n",
    "from sklearn.metrics import recall_score\n",
    "from sklearn.metrics import f1_score\n",
    "from sklearn.metrics import cohen_kappa_score\n",
    "from sklearn.metrics import roc_auc_score\n",
    "from sklearn.metrics import confusion_matrix"
   ]
  },
  {
   "cell_type": "code",
   "execution_count": 30,
   "metadata": {
    "execution": {
     "iopub.execute_input": "2021-06-09T04:23:16.140499Z",
     "iopub.status.busy": "2021-06-09T04:23:16.139941Z",
     "iopub.status.idle": "2021-06-09T04:23:16.192330Z",
     "shell.execute_reply": "2021-06-09T04:23:16.191023Z",
     "shell.execute_reply.started": "2021-06-09T04:23:16.140450Z"
    }
   },
   "outputs": [
    {
     "name": "stdout",
     "output_type": "stream",
     "text": [
      "Accuracy: 0.516189\n",
      "Precision: 0.000000\n",
      "Recall: 0.000000\n",
      "F1 score: 0.000000\n",
      "Cohens kappa: 0.000000\n",
      "ROC AUC: 0.977565\n",
      "[[2216    0]\n",
      " [2077    0]]\n"
     ]
    },
    {
     "name": "stderr",
     "output_type": "stream",
     "text": [
      "/opt/conda/lib/python3.7/site-packages/sklearn/metrics/_classification.py:1221: UndefinedMetricWarning: Precision is ill-defined and being set to 0.0 due to no predicted samples. Use `zero_division` parameter to control this behavior.\n",
      "  _warn_prf(average, modifier, msg_start, len(result))\n"
     ]
    }
   ],
   "source": [
    "# accuracy: (tp + tn) / (p + n)\n",
    "accuracy = accuracy_score(test_labels, yhat_classes)\n",
    "print('Accuracy: %f' % accuracy)\n",
    "# precision tp / (tp + fp)\n",
    "precision = precision_score(test_labels, yhat_classes)\n",
    "print('Precision: %f' % precision)\n",
    "# recall: tp / (tp + fn)\n",
    "recall = recall_score(test_labels, yhat_classes)\n",
    "print('Recall: %f' % recall)\n",
    "# f1: 2 tp / (2 tp + fp + fn)\n",
    "f1 = f1_score(test_labels, yhat_classes)\n",
    "print('F1 score: %f' % f1)\n",
    " \n",
    "# kappa\n",
    "kappa = cohen_kappa_score(test_labels, yhat_classes)\n",
    "print('Cohens kappa: %f' % kappa)\n",
    "# ROC AUC\n",
    "auc = roc_auc_score(test_labels, yhat_probs)\n",
    "print('ROC AUC: %f' % auc)\n",
    "# confusion matrix\n",
    "matrix = confusion_matrix(test_labels, yhat_classes)\n",
    "print(matrix)"
   ]
  },
  {
   "cell_type": "code",
   "execution_count": 31,
   "metadata": {
    "execution": {
     "iopub.execute_input": "2021-06-09T04:23:16.195239Z",
     "iopub.status.busy": "2021-06-09T04:23:16.194392Z",
     "iopub.status.idle": "2021-06-09T04:23:16.212060Z",
     "shell.execute_reply": "2021-06-09T04:23:16.210939Z",
     "shell.execute_reply.started": "2021-06-09T04:23:16.195189Z"
    }
   },
   "outputs": [],
   "source": [
    "def get_confusion_matrix_values(y_true, y_pred):\n",
    "    cm = confusion_matrix(y_true, y_pred)\n",
    "    return(cm[0][0], cm[0][1], cm[1][0], cm[1][1])\n",
    "\n",
    "TP, FP, FN, TN = get_confusion_matrix_values(test_labels, yhat_classes)"
   ]
  }
 ],
 "metadata": {
  "kernelspec": {
   "display_name": "Python 3",
   "language": "python",
   "name": "python3"
  },
  "language_info": {
   "codemirror_mode": {
    "name": "ipython",
    "version": 3
   },
   "file_extension": ".py",
   "mimetype": "text/x-python",
   "name": "python",
   "nbconvert_exporter": "python",
   "pygments_lexer": "ipython3",
   "version": "3.7.9"
  }
 },
 "nbformat": 4,
 "nbformat_minor": 4
}
